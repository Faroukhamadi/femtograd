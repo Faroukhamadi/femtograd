{
 "cells": [
  {
   "cell_type": "code",
   "execution_count": 1,
   "metadata": {},
   "outputs": [],
   "source": [
    "# from femtograd.engine import Node\n",
    "import math"
   ]
  },
  {
   "cell_type": "code",
   "execution_count": 172,
   "metadata": {},
   "outputs": [],
   "source": [
    "class Node:\n",
    "    def __init__(self, val) -> None:\n",
    "        self.val = val\n",
    "        self.gradient = 0\n",
    "        self.backward = lambda: None\n",
    "\n",
    "\n",
    "    def __add__(self, other):\n",
    "        res = Node(self.val + other.val)\n",
    "        \n",
    "        def _backward():\n",
    "            self.gradient = res.gradient\n",
    "            other.gradient = res.gradient\n",
    "            \n",
    "        res.backward = _backward\n",
    "        \n",
    "        return res\n",
    "\n",
    "    def __mul__(self, other):\n",
    "        res = Node(self.val * other.val)\n",
    "\n",
    "        def _backward():\n",
    "            self.gradient = other.val * res.gradient\n",
    "            other.gradient = self.val * res.gradient\n",
    "            \n",
    "        res.backward = _backward\n",
    "        \n",
    "        return res\n",
    "\n",
    "    def tanh(self):\n",
    "        res = Node((math.exp(2*self.val) - 1) / (math.exp(2*self.val) + 1))\n",
    "\n",
    "        def _backward():\n",
    "            self.gradient = (1 - res.val**2) * res.val\n",
    "\n",
    "        res.backward = _backward\n",
    "        return res\n",
    "    \n",
    "    def __pow__(self, other):\n",
    "        res = self.val ** other.val\n",
    "        return res\n",
    "\n",
    "    def __repr__(self) -> str:\n",
    "        return f'val={self.val}'\n",
    "\n",
    "    def _gradientDemo(self, func):\n",
    "        h = 0.0001\n",
    "        return (func(self.val + h) - func(self.val)) / h\n",
    "\n",
    "    def relu(self):\n",
    "        return max(0, self.val)"
   ]
  },
  {
   "cell_type": "code",
   "execution_count": 189,
   "metadata": {},
   "outputs": [],
   "source": [
    "a = Node(-4)\n",
    "b = Node(2)\n",
    "d = Node(3)\n",
    "c = a + b\n",
    "l = d * c"
   ]
  },
  {
   "cell_type": "code",
   "execution_count": 192,
   "metadata": {},
   "outputs": [
    {
     "data": {
      "text/plain": [
       "6"
      ]
     },
     "execution_count": 192,
     "metadata": {},
     "output_type": "execute_result"
    }
   ],
   "source": [
    "l.gradient = 2\n",
    "l.backward()\n",
    "c.gradient"
   ]
  },
  {
   "cell_type": "code",
   "execution_count": 197,
   "metadata": {},
   "outputs": [
    {
     "data": {
      "text/plain": [
       "6"
      ]
     },
     "execution_count": 197,
     "metadata": {},
     "output_type": "execute_result"
    }
   ],
   "source": [
    "c.backward()\n",
    "b.gradient"
   ]
  },
  {
   "cell_type": "code",
   "execution_count": 41,
   "metadata": {},
   "outputs": [
    {
     "data": {
      "text/plain": [
       "0"
      ]
     },
     "execution_count": 41,
     "metadata": {},
     "output_type": "execute_result"
    }
   ],
   "source": [
    "a.gradient"
   ]
  },
  {
   "cell_type": "code",
   "execution_count": 42,
   "metadata": {},
   "outputs": [],
   "source": [
    "def f(x):\n",
    "  return x**2 + 5*x"
   ]
  },
  {
   "cell_type": "code",
   "execution_count": 43,
   "metadata": {},
   "outputs": [
    {
     "ename": "TypeError",
     "evalue": "'int' object is not callable",
     "output_type": "error",
     "traceback": [
      "\u001b[1;31m---------------------------------------------------------------------------\u001b[0m",
      "\u001b[1;31mTypeError\u001b[0m                                 Traceback (most recent call last)",
      "Input \u001b[1;32mIn [43]\u001b[0m, in \u001b[0;36m<cell line: 1>\u001b[1;34m()\u001b[0m\n\u001b[1;32m----> 1\u001b[0m \u001b[43ma\u001b[49m\u001b[38;5;241;43m.\u001b[39;49m\u001b[43mgradient\u001b[49m\u001b[43m(\u001b[49m\u001b[43mf\u001b[49m\u001b[43m)\u001b[49m\n",
      "\u001b[1;31mTypeError\u001b[0m: 'int' object is not callable"
     ]
    }
   ],
   "source": [
    "a.gradient(f)"
   ]
  },
  {
   "cell_type": "code",
   "execution_count": 26,
   "metadata": {},
   "outputs": [
    {
     "name": "stdout",
     "output_type": "stream",
     "text": [
      "val=1\n"
     ]
    }
   ],
   "source": [
    "print(a)"
   ]
  }
 ],
 "metadata": {
  "kernelspec": {
   "display_name": "Python 3 (ipykernel)",
   "language": "python",
   "name": "python3"
  },
  "language_info": {
   "codemirror_mode": {
    "name": "ipython",
    "version": 3
   },
   "file_extension": ".py",
   "mimetype": "text/x-python",
   "name": "python",
   "nbconvert_exporter": "python",
   "pygments_lexer": "ipython3",
   "version": "3.10.2"
  }
 },
 "nbformat": 4,
 "nbformat_minor": 2
}
